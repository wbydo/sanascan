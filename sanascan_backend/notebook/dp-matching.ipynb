{
 "cells": [
  {
   "cell_type": "code",
   "execution_count": 1,
   "metadata": {},
   "outputs": [],
   "source": [
    "from typing import List\n",
    "\n",
    "from sanascan_backend.word import Word, Sentence\n",
    "from sanascan_backend.evaluation.dp_matching import DPMatching\n",
    "from sanascan_backend.evaluation.score import Score"
   ]
  },
  {
   "cell_type": "code",
   "execution_count": 2,
   "metadata": {},
   "outputs": [],
   "source": [
    "def calc_score(\n",
    "        ref: List[Word],\n",
    "        est: List[Word]) -> None:\n",
    "\n",
    "    dpm = DPMatching(\n",
    "        Sentence.from_iter(ref),\n",
    "        Sentence.from_iter(est),\n",
    "    )\n",
    "\n",
    "    return dpm.end_node.score"
   ]
  },
  {
   "cell_type": "code",
   "execution_count": 3,
   "metadata": {},
   "outputs": [
    {
     "data": {
      "text/plain": [
       "Score(correct=6, insert=0, substitute=0, dropout=0)"
      ]
     },
     "execution_count": 3,
     "metadata": {},
     "output_type": "execute_result"
    }
   ],
   "source": [
    "# Score(correct=6)を期待\n",
    "\n",
    "ref = [\n",
    "    Word('ホテル', 'ホテル'),\n",
    "    Word('内', 'ナイ'),\n",
    "    Word('の', 'ノ'),\n",
    "    Word('飲食', 'インショク'),\n",
    "    Word('店', 'テン'),\n",
    "    Word('が', 'ガ'),\n",
    "]\n",
    "\n",
    "est = [\n",
    "    Word('ホテル', 'ホテル'),\n",
    "    Word('内', 'ナイ'),\n",
    "    Word('の', 'ノ'),\n",
    "    Word('飲食', 'インショク'),\n",
    "    Word('店', 'テン'),\n",
    "    Word('が', 'ガ'),\n",
    "]\n",
    "\n",
    "calc_score(ref, est)"
   ]
  },
  {
   "cell_type": "code",
   "execution_count": 4,
   "metadata": {},
   "outputs": [
    {
     "data": {
      "text/plain": [
       "Score(correct=5, insert=0, substitute=0, dropout=1)"
      ]
     },
     "execution_count": 4,
     "metadata": {},
     "output_type": "execute_result"
    }
   ],
   "source": [
    "# Score(correct=5, dropout=1)を期待\n",
    "\n",
    "ref = [\n",
    "    Word('ホテル', 'ホテル'),\n",
    "    Word('内', 'ナイ'),\n",
    "    Word('の', 'ノ'),\n",
    "    Word('飲食', 'インショク'),\n",
    "    Word('店', 'テン'),\n",
    "    Word('が', 'ガ'),\n",
    "]\n",
    "\n",
    "est = [\n",
    "    Word('ホテル', 'ホテル'),\n",
    "    Word('内', 'ナイ'),\n",
    "    Word('飲食', 'インショク'),\n",
    "    Word('店', 'テン'),\n",
    "    Word('が', 'ガ'),\n",
    "]\n",
    "\n",
    "calc_score(ref, est)"
   ]
  },
  {
   "cell_type": "code",
   "execution_count": 5,
   "metadata": {},
   "outputs": [
    {
     "data": {
      "text/plain": [
       "Score(correct=6, insert=1, substitute=0, dropout=0)"
      ]
     },
     "execution_count": 5,
     "metadata": {},
     "output_type": "execute_result"
    }
   ],
   "source": [
    "# Score(correct=6, insert=1)を期待\n",
    "\n",
    "ref = [\n",
    "    Word('ホテル', 'ホテル'),\n",
    "    Word('内', 'ナイ'),\n",
    "    Word('の', 'ノ'),\n",
    "    Word('飲食', 'インショク'),\n",
    "    Word('店', 'テン'),\n",
    "    Word('が', 'ガ'),\n",
    "]\n",
    "\n",
    "est = [\n",
    "    Word('ホテル', 'ホテル'),\n",
    "    Word('内', 'ナイ'),\n",
    "    Word('の', 'ノ'),\n",
    "    Word('飲食', 'インショク'),\n",
    "    Word('飲食', 'インショク'),\n",
    "    Word('店', 'テン'),\n",
    "    Word('が', 'ガ'),\n",
    "]\n",
    "\n",
    "calc_score(ref, est)"
   ]
  },
  {
   "cell_type": "code",
   "execution_count": 6,
   "metadata": {},
   "outputs": [
    {
     "data": {
      "text/plain": [
       "Score(correct=5, insert=0, substitute=1, dropout=0)"
      ]
     },
     "execution_count": 6,
     "metadata": {},
     "output_type": "execute_result"
    }
   ],
   "source": [
    "# Score(correct=5, substitute=1)を期待\n",
    "\n",
    "ref = [\n",
    "    Word('ホテル', 'ホテル'),\n",
    "    Word('内', 'ナイ'),\n",
    "    Word('の', 'ノ'),\n",
    "    Word('飲食', 'インショク'),\n",
    "    Word('店', 'テン'),\n",
    "    Word('が', 'ガ'),\n",
    "]\n",
    "\n",
    "est = [\n",
    "    Word('ホテル', 'ホテル'),\n",
    "    Word('内', 'ナイ'),\n",
    "    Word('の', 'ノ'),\n",
    "    Word('飲食', 'インショク'),\n",
    "    Word('さん', 'サン'),\n",
    "    Word('が', 'ガ'),\n",
    "]\n",
    "\n",
    "calc_score(ref, est)"
   ]
  },
  {
   "cell_type": "code",
   "execution_count": null,
   "metadata": {},
   "outputs": [],
   "source": []
  }
 ],
 "metadata": {
  "kernelspec": {
   "display_name": "Python 3",
   "language": "python",
   "name": "python3"
  },
  "language_info": {
   "codemirror_mode": {
    "name": "ipython",
    "version": 3
   },
   "file_extension": ".py",
   "mimetype": "text/x-python",
   "name": "python",
   "nbconvert_exporter": "python",
   "pygments_lexer": "ipython3",
   "version": "3.7.0"
  }
 },
 "nbformat": 4,
 "nbformat_minor": 2
}
