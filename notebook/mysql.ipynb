{
 "cells": [
  {
   "cell_type": "code",
   "execution_count": 1,
   "metadata": {},
   "outputs": [],
   "source": [
    "import os\n",
    "import sys\n",
    "\n",
    "import yaml\n",
    "import pymysql\n",
    "import pandas as pd\n",
    "import pytablewriter\n",
    "from IPython.display import clear_output\n",
    "\n",
    "%config SqlMagic.autopandas = True\n",
    "%config SqlMagic.feedback = False\n",
    "%load_ext sql\n",
    "\n",
    "sys.path.insert(0, '..')\n",
    "\n",
    "with open('../config.yml') as f:\n",
    "    config = yaml.load(f)\n",
    "\n",
    "DB = 'mysql+pymysql://{username}:{password}@{host}/{database}?charset=utf8'.format(\n",
    "    **config['develop']\n",
    ")\n",
    "\n",
    "WRITER = pytablewriter.MarkdownTableWriter()\n",
    "\n",
    "pd.options.display.max_rows = 10\n",
    "\n",
    "clear_output()"
   ]
  },
  {
   "cell_type": "code",
   "execution_count": 2,
   "metadata": {},
   "outputs": [],
   "source": [
    "def query(q):\n",
    "    df = pd.read_sql_query(q, DB)\n",
    "    WRITER.from_dataframe(df)\n",
    "    WRITER.write_table()"
   ]
  },
  {
   "cell_type": "markdown",
   "metadata": {},
   "source": [
    "- pandas.DataFrameをMarkdownのテーブル記法に変換する方法（[4.5.3. Using pandas DataFrame as tabular data source](http://pytablewriter.readthedocs.io/en/latest/pages/examples/datasource/from_pandas_dataframe.html)）\n",
    "- 参考文献\n",
    "    - L. Beighley,直生佐藤,多苗子松永,Head first SQL : 頭とからだで覚える SQL の基本,オライリー・ジャパン, オーム社 (発売),2008."
   ]
  },
  {
   "cell_type": "markdown",
   "metadata": {},
   "source": [
    "# 各テーブルの内容\n",
    "\n",
    "## corporaテーブル"
   ]
  },
  {
   "cell_type": "code",
   "execution_count": 3,
   "metadata": {},
   "outputs": [
    {
     "name": "stdout",
     "output_type": "stream",
     "text": [
      "|id |corpus_id|                     name                     |\n",
      "|--:|---------|----------------------------------------------|\n",
      "|  1|CPRTUR   |楽天データセット::楽天トラベル::ユーザレビュー|\n",
      "\n"
     ]
    }
   ],
   "source": [
    "query(\n",
    "    'select * from corpora limit 20',\n",
    ")"
   ]
  },
  {
   "cell_type": "markdown",
   "metadata": {},
   "source": [
    "## corpus_filesテーブル"
   ]
  },
  {
   "cell_type": "code",
   "execution_count": 5,
   "metadata": {},
   "outputs": [
    {
     "name": "stdout",
     "output_type": "stream",
     "text": [
      "|id |          corpus_file_id          |corpus_id|                            checksum                            |\n",
      "|--:|----------------------------------|---------|----------------------------------------------------------------|\n",
      "|  2|travel02_userReview00_20160304.txt|CPRTUR   |729a3fae33cb900ed5fb56dffd2e6418790646260cc3b71326df42d160cc1a97|\n",
      "\n"
     ]
    }
   ],
   "source": [
    "query(\n",
    "    'select * from corpus_files limit 20',\n",
    ")"
   ]
  },
  {
   "cell_type": "markdown",
   "metadata": {},
   "source": [
    "## corpus_datumテーブル"
   ]
  },
  {
   "cell_type": "code",
   "execution_count": 9,
   "metadata": {},
   "outputs": [
    {
     "name": "stdout",
     "output_type": "stream",
     "text": [
      "|id |corpus_data_id|          corpus_file_id          |id_in_corpus|                        text                        |\n",
      "|--:|--------------|----------------------------------|-----------:|----------------------------------------------------|\n",
      "|101|CPRTUR00000001|travel02_userReview00_20160304.txt|           1|このホテルでこの値段は安い。                        |\n",
      "|102|CPRTUR00000008|travel02_userReview00_20160304.txt|           8|駅から出てすぐの所にありました。雨でも安心ですね    |\n",
      "|103|CPRTUR00000009|travel02_userReview00_20160304.txt|           9|乗車券が有効利用できました                          |\n",
      "|104|CPRTUR00000012|travel02_userReview00_20160304.txt|          12|バスルームが広いのがよかったです。                  |\n",
      "|105|CPRTUR00000022|travel02_userReview00_20160304.txt|          22|ラウンジでコーヒーを頼んだらプチケーキが付いてきた！|\n",
      "\n"
     ]
    }
   ],
   "source": [
    "query(\n",
    "    'select * from corpus_datum limit 5',\n",
    ")"
   ]
  },
  {
   "cell_type": "code",
   "execution_count": 10,
   "metadata": {},
   "outputs": [
    {
     "name": "stdout",
     "output_type": "stream",
     "text": [
      "|id |corpus_data_id|          corpus_file_id          |id_in_corpus|                                                                                                                                  text                                                                                                                                  |\n",
      "|--:|--------------|----------------------------------|-----------:|------------------------------------------------------------------------------------------------------------------------------------------------------------------------------------------------------------------------------------------------------------------------|\n",
      "|185|CPRTUR00000346|travel02_userReview00_20160304.txt|         346|8月14日一泊しました。TDLに行くには駅前で便利だと思います。最後の花火を見た後、車で、35分ぐらいで着いたと思います。ホテルの近くに、薬局も遅くまで営業していて、助かりました。室内に冷蔵庫はついていませんでしたが、ビールは廊下に自販機がありました。清潔なホテルでした。|\n",
      "\n"
     ]
    }
   ],
   "source": [
    "query('''\n",
    "    \n",
    "SELECT\n",
    "    *\n",
    "FROM\n",
    "    corpus_datum as cd\n",
    "ORDER BY\n",
    "    cd.text\n",
    "LIMIT 1\n",
    "    \n",
    "''')"
   ]
  },
  {
   "cell_type": "markdown",
   "metadata": {},
   "source": [
    "## sentence_delimitersテーブル"
   ]
  },
  {
   "cell_type": "code",
   "execution_count": 11,
   "metadata": {},
   "outputs": [
    {
     "name": "stdout",
     "output_type": "stream",
     "text": [
      "|id |sentence_delimiter_id|      regex       |\n",
      "|--:|---------------------|------------------|\n",
      "|  1|SD0001               |[。．\\.！!？\\?\\n]+|\n",
      "\n"
     ]
    }
   ],
   "source": [
    "query(\n",
    "    'select * from sentence_delimiters limit 5',\n",
    ")"
   ]
  },
  {
   "cell_type": "markdown",
   "metadata": {},
   "source": [
    "## sentencesテーブル"
   ]
  },
  {
   "cell_type": "code",
   "execution_count": 12,
   "metadata": {},
   "outputs": [
    {
     "name": "stdout",
     "output_type": "stream",
     "text": [
      "|id |corpus_data_id|sentence_delimiter_id|       sentence_id        |              text              |nth|length|\n",
      "|--:|--------------|---------------------|--------------------------|--------------------------------|--:|-----:|\n",
      "|  1|CPRTUR00000001|SD0001               |CPRTUR00000001_SD0001_0101|このホテルでこの値段は安い      |  1|     1|\n",
      "|  2|CPRTUR00000008|SD0001               |CPRTUR00000008_SD0001_0201|駅から出てすぐの所にありました  |  1|     2|\n",
      "|  3|CPRTUR00000008|SD0001               |CPRTUR00000008_SD0001_0202|雨でも安心ですね                |  2|     2|\n",
      "|  4|CPRTUR00000009|SD0001               |CPRTUR00000009_SD0001_0101|乗車券が有効利用できました      |  1|     1|\n",
      "|  5|CPRTUR00000012|SD0001               |CPRTUR00000012_SD0001_0101|バスルームが広いのがよかったです|  1|     1|\n",
      "\n"
     ]
    }
   ],
   "source": [
    "query(\n",
    "    'select * from sentences limit 5',\n",
    ")"
   ]
  },
  {
   "cell_type": "markdown",
   "metadata": {},
   "source": [
    "## morphological_analysiesテーブル"
   ]
  },
  {
   "cell_type": "code",
   "execution_count": 13,
   "metadata": {},
   "outputs": [
    {
     "name": "stdout",
     "output_type": "stream",
     "text": [
      "|id |  morphological_analysies_id   |       sentence_id        |surface| pos  | pos1 |pos2|pos3|ctype|cform| base | yomi | pron |nth|length|\n",
      "|--:|-------------------------------|--------------------------|-------|------|------|----|----|-----|-----|------|------|------|--:|-----:|\n",
      "|  1|CPRTUR00000001_SD0001_0101_0701|CPRTUR00000001_SD0001_0101|この   |連体詞|      |    |    |     |     |この  |コノ  |コノ  |  1|     7|\n",
      "|  2|CPRTUR00000001_SD0001_0101_0702|CPRTUR00000001_SD0001_0101|ホテル |名詞  |一般  |    |    |     |     |ホテル|ホテル|ホテル|  2|     7|\n",
      "|  3|CPRTUR00000001_SD0001_0101_0703|CPRTUR00000001_SD0001_0101|で     |助詞  |格助詞|一般|    |     |     |で    |デ    |デ    |  3|     7|\n",
      "|  4|CPRTUR00000001_SD0001_0101_0704|CPRTUR00000001_SD0001_0101|この   |連体詞|      |    |    |     |     |この  |コノ  |コノ  |  4|     7|\n",
      "|  5|CPRTUR00000001_SD0001_0101_0705|CPRTUR00000001_SD0001_0101|値段   |名詞  |一般  |    |    |     |     |値段  |ネダン|ネダン|  5|     7|\n",
      "\n"
     ]
    }
   ],
   "source": [
    "query(\n",
    "    'select * from morphological_analysies limit 5',\n",
    ")"
   ]
  },
  {
   "cell_type": "markdown",
   "metadata": {},
   "source": [
    "## morphemeテーブル"
   ]
  },
  {
   "cell_type": "code",
   "execution_count": 15,
   "metadata": {},
   "outputs": [
    {
     "name": "stdout",
     "output_type": "stream",
     "text": [
      "|id |morpheme_id|surface| pos  |  pos1  |pos2|pos3|  ctype   |cform |base|yomi|pron|\n",
      "|--:|-----------|-------|------|--------|----|----|----------|------|----|----|----|\n",
      "|  1|MO00000001 |JR     |名詞  |固有名詞|組織|    |          |      |    |    |    |\n",
      "|  2|MO00000002 |、     |記号  |読点    |    |    |          |      |、  |、  |、  |\n",
      "|  3|MO00000003 |あり   |動詞  |自立    |    |    |ラ変      |基本形|あり|アリ|アリ|\n",
      "|  4|MO00000004 |あり   |動詞  |自立    |    |    |五段・ラ行|連用形|ある|アリ|アリ|\n",
      "|  5|MO00000005 |お     |接頭詞|名詞接続|    |    |          |      |お  |オ  |オ  |\n",
      "\n"
     ]
    }
   ],
   "source": [
    "query(\n",
    "    'select * from morphemes limit 5',\n",
    ")"
   ]
  }
 ],
 "metadata": {
  "kernelspec": {
   "display_name": "Python 3",
   "language": "python",
   "name": "python3"
  },
  "language_info": {
   "codemirror_mode": {
    "name": "ipython",
    "version": 3
   },
   "file_extension": ".py",
   "mimetype": "text/x-python",
   "name": "python",
   "nbconvert_exporter": "python",
   "pygments_lexer": "ipython3",
   "version": "3.6.2"
  }
 },
 "nbformat": 4,
 "nbformat_minor": 2
}
