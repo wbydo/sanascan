{
 "cells": [
  {
   "cell_type": "code",
   "execution_count": 19,
   "metadata": {},
   "outputs": [],
   "source": [
    "import os\n",
    "import sys\n",
    "\n",
    "import yaml\n",
    "import pymysql\n",
    "import pandas as pd\n",
    "import pytablewriter\n",
    "from IPython.display import clear_output\n",
    "\n",
    "sys.path.insert(0, '..')\n",
    "\n",
    "with open('../config.yml') as f:\n",
    "    config = yaml.load(f)\n",
    "\n",
    "DB = 'mysql+pymysql://{username}:{password}@{host}/{database}?charset=utf8'.format(\n",
    "    **config['deploy']\n",
    ")\n",
    "\n",
    "WRITER = pytablewriter.MarkdownTableWriter()\n",
    "\n",
    "pd.options.display.max_rows = 10\n",
    "\n",
    "clear_output()\n",
    "\n",
    "%config SqlMagic.autopandas = True\n",
    "%config SqlMagic.feedback = False"
   ]
  },
  {
   "cell_type": "code",
   "execution_count": 20,
   "metadata": {},
   "outputs": [],
   "source": [
    "def query(q):\n",
    "    df = pd.read_sql_query(q, DB)\n",
    "    WRITER.from_dataframe(df)\n",
    "    WRITER.write_table()"
   ]
  },
  {
   "cell_type": "markdown",
   "metadata": {},
   "source": [
    "- pandas.DataFrameをMarkdownのテーブル記法に変換する方法（[4.5.3. Using pandas DataFrame as tabular data source](http://pytablewriter.readthedocs.io/en/latest/pages/examples/datasource/from_pandas_dataframe.html)）\n",
    "- 参考文献\n",
    "    - L. Beighley,直生佐藤,多苗子松永,Head first SQL : 頭とからだで覚える SQL の基本,オライリー・ジャパン, オーム社 (発売),2008."
   ]
  },
  {
   "cell_type": "code",
   "execution_count": 26,
   "metadata": {},
   "outputs": [
    {
     "name": "stdout",
     "output_type": "stream",
     "text": [
      "|id |lang_model_id|                checksum                |\n",
      "|--:|-------------|----------------------------------------|\n",
      "|  2|LM0001       |b08c3defbc5306bbf3d82a25ea2a4977b505ed84|\n",
      "|  5|LM0002       |751f7ab4368794c1fa2ec0d4c78d9f682481dcc8|\n",
      "|  6|LM0003       |eca0e642d8f97becbe52ea0dd00b72de98b8c3f0|\n",
      "|  8|LM0004       |033f7d07c3d6cf9af3854671519411bb7cd57581|\n",
      "|  9|LM0005       |8dd3a60b10b4897e00de0d3503c1180732eaea6a|\n",
      "\n"
     ]
    }
   ],
   "source": [
    "query(\n",
    "    'select * from lang_models limit 5',\n",
    ")"
   ]
  },
  {
   "cell_type": "code",
   "execution_count": 27,
   "metadata": {},
   "outputs": [
    {
     "name": "stdout",
     "output_type": "stream",
     "text": [
      "|id |lang_model_id|       sentence_id        |\n",
      "|--:|-------------|--------------------------|\n",
      "|  3|LM0001       |CPRTUR00000001_SD0001_0101|\n",
      "|  4|LM0001       |CPRTUR00000008_SD0001_0201|\n",
      "|  5|LM0001       |CPRTUR00000008_SD0001_0202|\n",
      "|  6|LM0001       |CPRTUR00000009_SD0001_0101|\n",
      "|  7|LM0001       |CPRTUR00000012_SD0001_0101|\n",
      "\n"
     ]
    }
   ],
   "source": [
    "query(\n",
    "    'select * from created_lang_model limit 5',\n",
    ")"
   ]
  },
  {
   "cell_type": "code",
   "execution_count": null,
   "metadata": {},
   "outputs": [],
   "source": []
  }
 ],
 "metadata": {
  "kernelspec": {
   "display_name": "Python 3",
   "language": "python",
   "name": "python3"
  },
  "language_info": {
   "codemirror_mode": {
    "name": "ipython",
    "version": 3
   },
   "file_extension": ".py",
   "mimetype": "text/x-python",
   "name": "python",
   "nbconvert_exporter": "python",
   "pygments_lexer": "ipython3",
   "version": "3.6.2"
  }
 },
 "nbformat": 4,
 "nbformat_minor": 2
}
